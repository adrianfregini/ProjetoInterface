{
 "cells": [
  {
   "cell_type": "code",
   "execution_count": 1,
   "metadata": {},
   "outputs": [],
   "source": [
    "from PySimpleGUI import PySimpleGUI as sg \n",
    "\n",
    "## Parte do código que define layout da interface, segmentado por área\n",
    "# Layout \n",
    "sg.theme('Reddit')\n",
    "layout = [\n",
    "    [sg.Text('Usuário'), sg.Input(key='usuario')],\n",
    "    [sg.Text('Senha'), sg.Input(key='senha',password_char='*')],\n",
    "    [sg.Checkbox('Salvar Login')],\n",
    "    [sg.Button('Entrar')]\n",
    "]\n",
    "# Janela\n",
    "janela = sg.Window('Tela de Login', layout)\n",
    "# Ler os eventos\n",
    "while True:\n",
    "    eventos, valores = janela.read()\n",
    "    if eventos == sg.WINDOW_CLOSED:\n",
    "        break\n",
    "    if eventos == 'Entrar':\n",
    "        if valores ['usuario'] == 'Adrian' and valores['senha'] == '123456':\n",
    "            print ('Bem-vindo ao primeiro Teste')\n"
   ]
  },
  {
   "cell_type": "markdown",
   "metadata": {},
   "source": []
  }
 ],
 "metadata": {
  "kernelspec": {
   "display_name": "base",
   "language": "python",
   "name": "python3"
  },
  "language_info": {
   "codemirror_mode": {
    "name": "ipython",
    "version": 3
   },
   "file_extension": ".py",
   "mimetype": "text/x-python",
   "name": "python",
   "nbconvert_exporter": "python",
   "pygments_lexer": "ipython3",
   "version": "3.9.13"
  },
  "orig_nbformat": 4,
  "vscode": {
   "interpreter": {
    "hash": "e06ff7da33dc9620448857a90ad8b5f428f0d573d205a934d2841c8aee45ea32"
   }
  }
 },
 "nbformat": 4,
 "nbformat_minor": 2
}
